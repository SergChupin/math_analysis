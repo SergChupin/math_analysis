{
 "cells": [
  {
   "cell_type": "markdown",
   "id": "07fe416f",
   "metadata": {},
   "source": [
    "## Тема 3 “Последовательность”"
   ]
  },
  {
   "cell_type": "markdown",
   "id": "2889e495",
   "metadata": {},
   "source": [
    "1. Даны 4 последовательности. Необходимо:\n",
    "\n",
    "        a. исследовать их на монотонность;\n",
    "        \n",
    "        b. исследовать на ограниченность;\n",
    "        \n",
    "        c. найти пятый по счету член."
   ]
  },
  {
   "cell_type": "markdown",
   "id": "c21bbed4",
   "metadata": {},
   "source": [
    "## $$a: 2^n - n$$\n",
    "## $$b: 1/(1 - n)$$\n",
    "## $$c: -1^n + \\sqrt 2n$$\n",
    "## $$d: (-1)^{2n} + 1/{n^2}$$"
   ]
  },
  {
   "cell_type": "code",
   "execution_count": 12,
   "id": "87609a86",
   "metadata": {},
   "outputs": [
    {
     "name": "stdout",
     "output_type": "stream",
     "text": [
      "1\n",
      "2\n",
      "5\n",
      "12\n",
      "27\n",
      "58\n",
      "121\n",
      "248\n",
      "503\n",
      "1014\n",
      "Пятый член = 27\n"
     ]
    }
   ],
   "source": [
    "# a: Монотонность - возрастание; ограничена снизу 0\n",
    "for n in range(1, 11):\n",
    "    print(2**n - n)\n",
    "print(f'Пятый член = {2**5 - 5}')"
   ]
  },
  {
   "cell_type": "code",
   "execution_count": 13,
   "id": "a7c7d07f",
   "metadata": {},
   "outputs": [
    {
     "name": "stdout",
     "output_type": "stream",
     "text": [
      "-1.0\n",
      "-0.5\n",
      "-0.3333333333333333\n",
      "-0.25\n",
      "-0.2\n",
      "-0.16666666666666666\n",
      "-0.14285714285714285\n",
      "-0.125\n",
      "-0.1111111111111111\n",
      "-0.1\n",
      "Пятый член = -0.2\n"
     ]
    }
   ],
   "source": [
    "# b: Монотонность - убывание; ограничена сверху 0\n",
    "for n in range(2, 12):\n",
    "    print(1/(1 - n))\n",
    "print(f'Пятый член = {1/(1 - 6)}')"
   ]
  },
  {
   "cell_type": "code",
   "execution_count": 14,
   "id": "5146d5ba",
   "metadata": {},
   "outputs": [
    {
     "name": "stdout",
     "output_type": "stream",
     "text": [
      "0.41421356237309515\n",
      "3.0\n",
      "1.4494897427831779\n",
      "3.8284271247461903\n",
      "2.1622776601683795\n",
      "4.464101615137754\n",
      "2.7416573867739413\n",
      "5.0\n",
      "3.2426406871192848\n",
      "5.47213595499958\n",
      "Пятый член = -0.2\n"
     ]
    }
   ],
   "source": [
    "# c: Монотонность - возрастание; ограничена снизу 0\n",
    "import math\n",
    "for n in range(1, 11):\n",
    "    print((-1)**n + math.sqrt(2*n))\n",
    "print(f'Пятый член = {1/(1 - 6)}')"
   ]
  },
  {
   "cell_type": "code",
   "execution_count": 15,
   "id": "69eec881",
   "metadata": {},
   "outputs": [
    {
     "name": "stdout",
     "output_type": "stream",
     "text": [
      "2.0\n",
      "1.25\n",
      "1.1111111111111112\n",
      "1.0625\n",
      "1.04\n",
      "1.0277777777777777\n",
      "1.0204081632653061\n",
      "1.015625\n",
      "1.0123456790123457\n",
      "1.01\n",
      "Пятый член = 1.04\n"
     ]
    }
   ],
   "source": [
    "# d: Монотонность - убывание; ограничена сверху 2,1 (3 если брать только целые числа) и снизу 1\n",
    "for n in range(1, 11):\n",
    "    print((-1)**(2*n) + 1/n**2)\n",
    "print(f'Пятый член = {(-1)**(2*5) + 1/5**2}')"
   ]
  },
  {
   "cell_type": "markdown",
   "id": "0ec3bcc9",
   "metadata": {},
   "source": [
    " 2. Найти 12-й член заданной неявно последовательности"
   ]
  },
  {
   "cell_type": "markdown",
   "id": "88d9a092",
   "metadata": {},
   "source": [
    "а(первое) = 128\n",
    "\n",
    "a(энное + 1) - a(энное) = 6"
   ]
  },
  {
   "cell_type": "code",
   "execution_count": 16,
   "id": "a5ccdf78",
   "metadata": {},
   "outputs": [
    {
     "name": "stdout",
     "output_type": "stream",
     "text": [
      "12 член заданной последовательности = 194\n"
     ]
    }
   ],
   "source": [
    "# а(второе) = 6 + а(первое), а(второе) = 6 + 128 = 134.\n",
    "# каждый следующий член последовательности на 6 больше предыдущего\n",
    "print(f'12 член заданной последовательности = {128 + 6*11}')"
   ]
  }
 ],
 "metadata": {
  "kernelspec": {
   "display_name": "Python 3",
   "language": "python",
   "name": "python3"
  },
  "language_info": {
   "codemirror_mode": {
    "name": "ipython",
    "version": 3
   },
   "file_extension": ".py",
   "mimetype": "text/x-python",
   "name": "python",
   "nbconvert_exporter": "python",
   "pygments_lexer": "ipython3",
   "version": "3.9.0"
  }
 },
 "nbformat": 4,
 "nbformat_minor": 5
}
